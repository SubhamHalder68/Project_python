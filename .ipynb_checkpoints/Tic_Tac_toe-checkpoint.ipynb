{
 "cells": [
  {
   "cell_type": "markdown",
   "metadata": {},
   "source": [
    "# Tic-Tac-Toe-game"
   ]
  },
  {
   "cell_type": "markdown",
   "metadata": {},
   "source": [
    "# Algorithm"
   ]
  },
  {
   "cell_type": "markdown",
   "metadata": {},
   "source": [
    "####\n",
    "1. Game Start\n",
    "2. Print rules for help\n",
    "3. create new game\n",
    "4. User input sign(X,O) selection\n",
    "5. Current game started\n",
    "6. player 1 select position in game\n",
    "8. is player 1 wanted to undo the move?\n",
    "9. yes then go to 6. \n",
    "10. No then continue\n",
    "11. check for winner :yes  then win the game end go to 16\n",
    "12. else continue\n",
    "13. check for board full : yes then match draw go to 16\n",
    "14. else continue\n",
    "15. For player 2 reapeat the same steps from 6 to 14 vice-versa\n",
    "16. current game end\n",
    "17. replay or not? yes then go to 3\n",
    "18. no then exit()\n"
   ]
  },
  {
   "cell_type": "markdown",
   "metadata": {},
   "source": [
    "# Rules"
   ]
  },
  {
   "cell_type": "code",
   "execution_count": 1,
   "metadata": {},
   "outputs": [],
   "source": [
    "#rules Function to explain rule of game and how to play\n",
    "\n",
    "#import for clear screen\n",
    "from IPython.display import clear_output\n",
    "\n",
    "def rules():\n",
    "    clear_output() \n",
    "    print('Rules:=>\\n2 players able to play the game (both sitting at the same computer)')\n",
    "    print(\"Use numpad of keyboard to position to select position of 'X'and'O'\")\n",
    "    print('   '+'|'+'   '+'|'+'   ')\n",
    "    print(' 7 '+'|'+' 8 '+'|'+' 9 ')\n",
    "    print('------------')\n",
    "    print('   '+'|'+'   '+'|'+'  ')\n",
    "    print(' 4 '+'|'+' 5 '+'|'+' 6 ')\n",
    "    print('------------')\n",
    "    print('   '+'|'+'   '+'|'+'   ')\n",
    "    print(' 1 '+'|'+' 2 '+'|'+' 3 ')\n",
    "    print('others rules are same as per classical tic-tac-toe game')"
   ]
  },
  {
   "cell_type": "markdown",
   "metadata": {},
   "source": [
    "# Display format for game"
   ]
  },
  {
   "cell_type": "code",
   "execution_count": 2,
   "metadata": {},
   "outputs": [],
   "source": [
    "#display function \n",
    "def display(game):\n",
    "    clear_output() \n",
    "    print('\\n   '+'|'+'   '+'|'+'   ')\n",
    "    print(' '+game[7]+' | '+game[8]+' | '+game[9]+' ')\n",
    "    print('------------')\n",
    "    print('   '+'|'+'   '+'|'+'  ')\n",
    "    print(' '+game[4]+' | '+game[5]+' | '+game[6]+' ')\n",
    "    print('------------')\n",
    "    print('   '+'|'+'   '+'|'+'   ')\n",
    "    print(' '+game[1]+' | '+game[2]+' | '+game[3]+' ')\n",
    "    "
   ]
  },
  {
   "cell_type": "markdown",
   "metadata": {},
   "source": [
    "# Creating new game"
   ]
  },
  {
   "cell_type": "code",
   "execution_count": 3,
   "metadata": {},
   "outputs": [],
   "source": [
    "#new game creation function=create_new()\n",
    "def create_new():\n",
    "    game=['E',' ',' ',' ',' ',' ',' ',' ',' ',' ']#blank game\n",
    "    return game"
   ]
  },
  {
   "cell_type": "markdown",
   "metadata": {},
   "source": [
    "# Input selection by users"
   ]
  },
  {
   "cell_type": "code",
   "execution_count": 4,
   "metadata": {},
   "outputs": [],
   "source": [
    "#user input selection function (assign x or o) to player_1 and player_2\n",
    "def input_selection():\n",
    "    player_1=input('please select [X or O] player 1=>')\n",
    "    player_1.upper()\n",
    "    while player_1 not in ['X','O']:\n",
    "        print('wrong selection! please select [X or O] player 1=>')\n",
    "    if player_1=='X':#if player_1 choose x then by default player_2 is o\n",
    "        player_2='O'\n",
    "    else:\n",
    "        player_2='X'#if player_1 choose o then by default player_2 is x\n",
    "     #printing choosen data\n",
    "    print('player 1:selected=>',player_1)\n",
    "    print('player 2:selected=>',player_2)\n",
    "    return player_1,player_2"
   ]
  },
  {
   "cell_type": "markdown",
   "metadata": {},
   "source": [
    "# Anyone win or not check"
   ]
  },
  {
   "cell_type": "code",
   "execution_count": 5,
   "metadata": {},
   "outputs": [],
   "source": [
    "#winner checker\n",
    "def win_check(game,choice):#(game,player_sign)\n",
    "    \n",
    "    #whole logic as per game rule\n",
    "    return ((game[7] == choice and game[8] == choice and game[9] == choice) or # across the top\n",
    "    (game[4] == choice and game[5] == choice and game[6] == choice) or # across the middle\n",
    "    (game[1] == choice and game[2] == choice and game[3] == choice) or # across the bottom\n",
    "    (game[7] == choice and game[4] == choice and game[1] == choice) or # down from the left\n",
    "    (game[8] == choice and game[5] == choice and game[2] == choice) or # down from the middle\n",
    "    (game[9] == choice and game[6] == choice and game[3] == choice) or # down from the right \n",
    "    (game[7] == choice and game[5] == choice and game[3] == choice) or # diagonal left to right\n",
    "    (game[9] == choice and game[5] == choice and game[1] == choice)) # diagonal right to left"
   ]
  },
  {
   "cell_type": "markdown",
   "metadata": {},
   "source": [
    "# Position selection in game"
   ]
  },
  {
   "cell_type": "code",
   "execution_count": 6,
   "metadata": {},
   "outputs": [],
   "source": [
    "# Player input position selection\n",
    "def player_choice(game,choice,player):#(game,player_sign,player_name)\n",
    "        status=True  #while loop for getting correct input status\n",
    "        player=str(player)\n",
    "    \n",
    "        while status:\n",
    "            position = int(input('Choose your next position: (1-9) '+'player'+player))  #input by user\n",
    "            if position not in [1,2,3,4,5,6,7,8,9]:                     #input enter correctly or not\n",
    "                print('Selection not in (1-9) range')                    \n",
    "            elif game[position]==' ':                                   #choosen position is empty or not\n",
    "                game[position]=choice\n",
    "                status=False                                            #while loop exit\n",
    "                return position                                         #choosen position return\n",
    "            else:\n",
    "                print('You select already occupied position please select again')"
   ]
  },
  {
   "cell_type": "markdown",
   "metadata": {},
   "source": [
    "# Board is Full "
   ]
  },
  {
   "cell_type": "code",
   "execution_count": 7,
   "metadata": {},
   "outputs": [],
   "source": [
    "# board is full or not useful to check a draw is happen or not\n",
    "def full_board(game):\n",
    "    for i in range(1,10):    #check through all boxes    \n",
    "        if game[i]==' ':     #checking \n",
    "            return False     #not full then continue\n",
    "    return True              #draw"
   ]
  },
  {
   "cell_type": "markdown",
   "metadata": {},
   "source": [
    "# Players want to replay"
   ]
  },
  {
   "cell_type": "code",
   "execution_count": 8,
   "metadata": {},
   "outputs": [],
   "source": [
    "#replay function\n",
    "def replay():\n",
    "    play='E'\n",
    "    while play not in ['Y','N']:                #check util user enter Y/N\n",
    "        play=input('Do you want a replay[Y,N]?')#input\n",
    "        if play.upper()=='Y':                   #yes or not\n",
    "            return True\n",
    "        elif play.upper()=='N':\n",
    "            return False\n",
    "        else:\n",
    "            print('Please enter [Y,N]')         #incorrect input"
   ]
  },
  {
   "cell_type": "markdown",
   "metadata": {},
   "source": [
    "# Undo previous move"
   ]
  },
  {
   "cell_type": "code",
   "execution_count": 9,
   "metadata": {},
   "outputs": [],
   "source": [
    "#Undo the game recent move\n",
    "def undo(game,position):\n",
    "    un='E'\n",
    "    while un not in ['Y','N']:                #check util user enter Y/N\n",
    "        un=input('Do you want a undo move[Y,N]?')#input\n",
    "        if un.upper()=='Y':#yes  then empty position\n",
    "            game[position]=' '\n",
    "            return True\n",
    "        elif un.upper()=='N':#no then continue\n",
    "            return False\n",
    "        else:\n",
    "            print('Please enter [Y,N]') "
   ]
  },
  {
   "cell_type": "markdown",
   "metadata": {},
   "source": [
    "# Game "
   ]
  },
  {
   "cell_type": "code",
   "execution_count": 10,
   "metadata": {},
   "outputs": [
    {
     "name": "stdout",
     "output_type": "stream",
     "text": [
      "\n",
      "   |   |   \n",
      " X |   | O \n",
      "------------\n",
      "   |   |  \n",
      "   | X | O \n",
      "------------\n",
      "   |   |   \n",
      "   |   | X \n",
      "Congratulations! Player_1 have won the game!\n",
      "Do you want a replay[Y,N]?n\n",
      "----------Thanks for playing-------\n",
      " Come back again!\n"
     ]
    }
   ],
   "source": [
    "#main part of the code for play\n",
    "\n",
    "print('-----------------Tic-Tac-Toe-------------------------------')\n",
    "rules()       #rules shown\n",
    "play=True     #play continue \n",
    "while play:\n",
    "    Game=create_new() #new game create\n",
    "    player_1,player_2=input_selection() #player_1 select the input\n",
    "    \n",
    "    game_status=True  #this is for game win,draw or continue using loop\n",
    "    player=1  #by default player_1 start first\n",
    "    \n",
    "    #current game start\n",
    "    while game_status:\n",
    "        #for player_1\n",
    "        if player==1:\n",
    "            display(Game)  \n",
    "            player_1_choice=player_choice(Game, player_1,player) #choosing a position by player_1\n",
    "            display(Game)\n",
    "            \n",
    "            if undo(Game,player_1_choice):#undo the latest move\n",
    "                player_1_choice=player_choice(Game, player_1,player)#yes then choose new position\n",
    "            else:#to check after a move player_1 win or not\n",
    "                if win_check(Game, player_1):\n",
    "                    display(Game)\n",
    "                    print('Congratulations! Player_1 have won the game!')\n",
    "                    game_status = False    #current game end\n",
    "                else:\n",
    "                    if full_board(Game):#to check after a move game is draw or not\n",
    "                        display(Game)\n",
    "                        print('The game is a draw!')\n",
    "                        break\n",
    "                    else:\n",
    "                        player=2                      #if not draw or win then now is time to play of player_2\n",
    "        else:\n",
    "            display(Game)\n",
    "            player_2_choice=player_choice(Game, player_2,player)\n",
    "            display(Game)\n",
    "                \n",
    "            if undo(Game,player_2_choice):\n",
    "                player_2_choice=player_choice(Game, player_2,player)\n",
    "            else:\n",
    "                if win_check(Game, player_2):\n",
    "                    display(Game)\n",
    "                    print('Congratulations! Player_2 have won the game!')\n",
    "                    game_status = False\n",
    "                else:\n",
    "                    if full_board(Game):\n",
    "                        display(Game)\n",
    "                        print('The game is a draw!')\n",
    "                        break\n",
    "                    else:\n",
    "                        player=1\n",
    "       \n",
    "         \n",
    "    if replay()==True: #want to play replay or not\n",
    "        pass #yes\n",
    "    else:\n",
    "        break #no end of loop as well as game\n",
    "print('----------Thanks for playing-------\\n Come back again!')\n",
    "        \n",
    "            \n",
    "        \n",
    "    "
   ]
  },
  {
   "cell_type": "markdown",
   "metadata": {},
   "source": [
    "### END"
   ]
  },
  {
   "cell_type": "code",
   "execution_count": null,
   "metadata": {},
   "outputs": [],
   "source": []
  }
 ],
 "metadata": {
  "kernelspec": {
   "display_name": "Python 3",
   "language": "python",
   "name": "python3"
  },
  "language_info": {
   "codemirror_mode": {
    "name": "ipython",
    "version": 3
   },
   "file_extension": ".py",
   "mimetype": "text/x-python",
   "name": "python",
   "nbconvert_exporter": "python",
   "pygments_lexer": "ipython3",
   "version": "3.8.1"
  }
 },
 "nbformat": 4,
 "nbformat_minor": 1
}
